{
 "cells": [
  {
   "cell_type": "code",
   "execution_count": 9,
   "metadata": {},
   "outputs": [],
   "source": [
    "import numpy as np\n",
    "import pandas as pd\n",
    "from sklearn.model_selection import train_test_split"
   ]
  },
  {
   "cell_type": "code",
   "execution_count": 12,
   "metadata": {},
   "outputs": [
    {
     "name": "stdout",
     "output_type": "stream",
     "text": [
      "원본 data: [0 2 5 7 1 5 4 9 4 3]\n",
      "원본 label: [1 1 1 0 0 0 0 0 1 0]\n",
      "[0 2 5 7 1 5 4 9 4 3 2 3 7 6 6 4 7 3 0 5 3 8 2 2 1 7 8 3 7 4 1 9 1 8 5 6 3\n",
      " 6 4 7 8 9 8 6 6 9 7 0 1 3]\n",
      "[6 7 1 9 3 1 8 7 1 5 7 1 6 4 7]\n",
      "[0 1 1 0 0 0 1 1 0 0 1 1 0 0 0 0 1 1 1 1 1 1 1 1 1 1 1 1 0 0 0 0 1 1 0]\n",
      "[0 1 1 0 0 1 1 0 0 1 0 0 1 1 0]\n"
     ]
    }
   ],
   "source": [
    "\n",
    "feature_data = np.random.randint(0,10,50)\n",
    "label_data =np.random.randint(0,2,50)\n",
    "print('원본 data:',feature_data[:10])\n",
    "print('원본 label:',label_data[:10])\n",
    "\n",
    "feature_train, feature_test, label_train, label_test_=train_test_split(feature_data, \n",
    "                                                             label_data, \n",
    "                                                             test_size=0.3, \n",
    "                                                             random_state = 42)\n",
    "print(feature_data)\n",
    "print(feature_test)\n",
    "print(label_train)\n",
    "print(label_test_)"
   ]
  }
 ],
 "metadata": {
  "kernelspec": {
   "display_name": "base",
   "language": "python",
   "name": "python3"
  },
  "language_info": {
   "codemirror_mode": {
    "name": "ipython",
    "version": 3
   },
   "file_extension": ".py",
   "mimetype": "text/x-python",
   "name": "python",
   "nbconvert_exporter": "python",
   "pygments_lexer": "ipython3",
   "version": "3.12.7"
  }
 },
 "nbformat": 4,
 "nbformat_minor": 2
}
